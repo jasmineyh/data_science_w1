{
  "nbformat": 4,
  "nbformat_minor": 0,
  "metadata": {
    "colab": {
      "provenance": [],
      "authorship_tag": "ABX9TyOQIWGJpIfF9SRT+5iYyB4k",
      "include_colab_link": true
    },
    "kernelspec": {
      "name": "python3",
      "display_name": "Python 3"
    },
    "language_info": {
      "name": "python"
    }
  },
  "cells": [
    {
      "cell_type": "markdown",
      "metadata": {
        "id": "view-in-github",
        "colab_type": "text"
      },
      "source": [
        "<a href=\"https://colab.research.google.com/github/jasmineyh/data_science_w1/blob/main/Tutorial3.ipynb\" target=\"_parent\"><img src=\"https://colab.research.google.com/assets/colab-badge.svg\" alt=\"Open In Colab\"/></a>"
      ]
    },
    {
      "cell_type": "code",
      "execution_count": 1,
      "metadata": {
        "id": "9_2JZXELM4Lv"
      },
      "outputs": [],
      "source": [
        "import numpy as np"
      ]
    },
    {
      "cell_type": "code",
      "source": [
        "a = np.array([[1,2],[3,4]])\n",
        "print(a)"
      ],
      "metadata": {
        "colab": {
          "base_uri": "https://localhost:8080/"
        },
        "id": "4si48C1rM_zg",
        "outputId": "31c12259-f3c0-43c2-db00-bc85321e785f"
      },
      "execution_count": 3,
      "outputs": [
        {
          "output_type": "stream",
          "name": "stdout",
          "text": [
            "[[1 2]\n",
            " [3 4]]\n"
          ]
        }
      ]
    },
    {
      "cell_type": "code",
      "source": [
        "b = np.random.rand(3,4)\n",
        "print(b)\n"
      ],
      "metadata": {
        "colab": {
          "base_uri": "https://localhost:8080/"
        },
        "id": "_aHdrSfXNrKN",
        "outputId": "0b0ceeb6-fb93-43ef-9b67-62695918cd60"
      },
      "execution_count": 6,
      "outputs": [
        {
          "output_type": "stream",
          "name": "stdout",
          "text": [
            "[[0.05164085 0.17297438 0.98626435 0.32774111]\n",
            " [0.94656635 0.8494738  0.71909731 0.92263854]\n",
            " [0.99745989 0.79269502 0.9971597  0.98785534]]\n"
          ]
        }
      ]
    },
    {
      "cell_type": "code",
      "source": [
        "c=np.ones((3,3))\n",
        "print(c)\n",
        "print(\"\")\n",
        "d=np.zeros((3,4))\n",
        "print(d)"
      ],
      "metadata": {
        "colab": {
          "base_uri": "https://localhost:8080/"
        },
        "id": "ZPXzw-kfO7lf",
        "outputId": "3c6fdace-14a0-478a-c3cf-a7d3a13eef58"
      },
      "execution_count": 9,
      "outputs": [
        {
          "output_type": "stream",
          "name": "stdout",
          "text": [
            "[[1. 1. 1.]\n",
            " [1. 1. 1.]\n",
            " [1. 1. 1.]]\n",
            "\n",
            "[[0. 0. 0. 0.]\n",
            " [0. 0. 0. 0.]\n",
            " [0. 0. 0. 0.]]\n"
          ]
        }
      ]
    },
    {
      "cell_type": "code",
      "source": [
        "ori_array=np.random.rand(6,3)\n",
        "print(ori_array)\n",
        "print(\" \")\n",
        "transposed_array=ori_array.T\n",
        "print(transposed_array)"
      ],
      "metadata": {
        "colab": {
          "base_uri": "https://localhost:8080/"
        },
        "id": "z6dBbJ5hPLar",
        "outputId": "03dd79e1-646f-4be6-b832-d50896bf5b38"
      },
      "execution_count": 10,
      "outputs": [
        {
          "output_type": "stream",
          "name": "stdout",
          "text": [
            "[[0.7227996  0.75426353 0.07820986]\n",
            " [0.38669463 0.89765399 0.14799759]\n",
            " [0.77295412 0.58524423 0.33675171]\n",
            " [0.37357307 0.48094028 0.59167544]\n",
            " [0.11268592 0.23839802 0.56782895]\n",
            " [0.08268697 0.35463724 0.3208946 ]]\n",
            " \n",
            "[[0.7227996  0.38669463 0.77295412 0.37357307 0.11268592 0.08268697]\n",
            " [0.75426353 0.89765399 0.58524423 0.48094028 0.23839802 0.35463724]\n",
            " [0.07820986 0.14799759 0.33675171 0.59167544 0.56782895 0.3208946 ]]\n"
          ]
        }
      ]
    },
    {
      "cell_type": "code",
      "source": [
        "n=3\n",
        "p=4\n",
        "m=5\n",
        "\n",
        "arr_nxp=np.random.rand(n,p)\n",
        "print(arr_nxp,\"\\n\")\n",
        "arr_pxm=np.random.rand(p,m)\n",
        "print(arr_pxm,\"\\n\")\n",
        "dotproduct=np.dot(arr_nxp, arr_pxm)\n",
        "print(dotproduct)"
      ],
      "metadata": {
        "colab": {
          "base_uri": "https://localhost:8080/"
        },
        "id": "tVUQmSHHQElA",
        "outputId": "e67875de-5f36-4906-ed93-e245fca9bcc2"
      },
      "execution_count": 11,
      "outputs": [
        {
          "output_type": "stream",
          "name": "stdout",
          "text": [
            "[[0.84036717 0.97705898 0.32158292 0.82742105]\n",
            " [0.60552053 0.24996207 0.37168447 0.04095473]\n",
            " [0.69633296 0.58452962 0.60189716 0.28522225]] \n",
            "\n",
            "[[0.98398134 0.25503335 0.00628122 0.90511274 0.26222562]\n",
            " [0.44558647 0.05850142 0.02385521 0.02606258 0.78657748]\n",
            " [0.26833451 0.36707204 0.09707809 0.6642501  0.94941417]\n",
            " [0.5587388  0.87686025 0.54664169 0.6839612  0.59936928]] \n",
            "\n",
            "[[1.81087391 1.11505772 0.51210797 1.56562708 1.79014453]\n",
            " [0.82981938 0.34139762 0.06823628 0.82948189 0.73282704]\n",
            " [1.26651164 0.68282361 0.2326633  1.24038537 1.38477732]]\n"
          ]
        }
      ]
    }
  ]
}